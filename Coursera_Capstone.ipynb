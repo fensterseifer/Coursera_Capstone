{
    "cells": [
        {
            "cell_type": "markdown",
            "metadata": {
                "collapsed": true
            },
            "source": "<h1>This is a notebook to implement the Final Assignment of IBM Data Science course on Coursera.</h1>\n\nMy name is Rafael Fensterseifer and I am from Porto Alegre, Rio Grande do Sul state, Brasil"
        },
        {
            "cell_type": "code",
            "execution_count": 2,
            "metadata": {},
            "outputs": [],
            "source": "import pandas as pd\nimport numpy as np"
        },
        {
            "cell_type": "code",
            "execution_count": 3,
            "metadata": {},
            "outputs": [
                {
                    "name": "stdout",
                    "output_type": "stream",
                    "text": "Hello Capstone Project Course!\n"
                }
            ],
            "source": "print(\"Hello Capstone Project Course!\")"
        },
        {
            "cell_type": "markdown",
            "metadata": {},
            "source": "<h1>1 - First of all, get our data!</h1>"
        },
        {
            "cell_type": "markdown",
            "metadata": {},
            "source": "<h3> 1.1 - List of Postal Codes of Toronto (Ontario/Canada) and its latitude and longitude coordinates</h3>"
        },
        {
            "cell_type": "code",
            "execution_count": 4,
            "metadata": {},
            "outputs": [
                {
                    "data": {
                        "text/html": "<div>\n<style scoped>\n    .dataframe tbody tr th:only-of-type {\n        vertical-align: middle;\n    }\n\n    .dataframe tbody tr th {\n        vertical-align: top;\n    }\n\n    .dataframe thead th {\n        text-align: right;\n    }\n</style>\n<table border=\"1\" class=\"dataframe\">\n  <thead>\n    <tr style=\"text-align: right;\">\n      <th></th>\n      <th>PostalCode</th>\n      <th>Borough</th>\n      <th>Neighbourhood</th>\n    </tr>\n  </thead>\n  <tbody>\n    <tr>\n      <th>2</th>\n      <td>M3A</td>\n      <td>North York</td>\n      <td>Parkwoods</td>\n    </tr>\n    <tr>\n      <th>3</th>\n      <td>M4A</td>\n      <td>North York</td>\n      <td>Victoria Village</td>\n    </tr>\n    <tr>\n      <th>4</th>\n      <td>M5A</td>\n      <td>Downtown Toronto</td>\n      <td>Regent Park, Harbourfront</td>\n    </tr>\n    <tr>\n      <th>5</th>\n      <td>M6A</td>\n      <td>North York</td>\n      <td>Lawrence Manor, Lawrence Heights</td>\n    </tr>\n    <tr>\n      <th>6</th>\n      <td>M7A</td>\n      <td>Downtown Toronto</td>\n      <td>Queen's Park, Ontario Provincial Government</td>\n    </tr>\n  </tbody>\n</table>\n</div>",
                        "text/plain": "  PostalCode           Borough                                Neighbourhood\n2        M3A        North York                                    Parkwoods\n3        M4A        North York                             Victoria Village\n4        M5A  Downtown Toronto                    Regent Park, Harbourfront\n5        M6A        North York             Lawrence Manor, Lawrence Heights\n6        M7A  Downtown Toronto  Queen's Park, Ontario Provincial Government"
                    },
                    "execution_count": 4,
                    "metadata": {},
                    "output_type": "execute_result"
                }
            ],
            "source": "df = pd.read_html('https://en.wikipedia.org/wiki/List_of_postal_codes_of_Canada:_M', header=0)[0]\ndf.rename(columns={'Postal Code':'PostalCode'}, inplace=True)\ndf.replace('Not assigned', np.nan, inplace=True)\ndf.dropna(subset=['Borough'], axis=0, inplace=True)\ndf.head()"
        },
        {
            "cell_type": "code",
            "execution_count": 5,
            "metadata": {},
            "outputs": [
                {
                    "name": "stdout",
                    "output_type": "stream",
                    "text": "103 postal codes\n"
                },
                {
                    "data": {
                        "text/html": "<div>\n<style scoped>\n    .dataframe tbody tr th:only-of-type {\n        vertical-align: middle;\n    }\n\n    .dataframe tbody tr th {\n        vertical-align: top;\n    }\n\n    .dataframe thead th {\n        text-align: right;\n    }\n</style>\n<table border=\"1\" class=\"dataframe\">\n  <thead>\n    <tr style=\"text-align: right;\">\n      <th></th>\n      <th>PostalCode</th>\n      <th>Borough</th>\n      <th>Neighbourhood</th>\n      <th>Latitude</th>\n      <th>Longitude</th>\n    </tr>\n  </thead>\n  <tbody>\n    <tr>\n      <th>0</th>\n      <td>M3A</td>\n      <td>North York</td>\n      <td>Parkwoods</td>\n      <td>43.753259</td>\n      <td>-79.329656</td>\n    </tr>\n    <tr>\n      <th>1</th>\n      <td>M4A</td>\n      <td>North York</td>\n      <td>Victoria Village</td>\n      <td>43.725882</td>\n      <td>-79.315572</td>\n    </tr>\n    <tr>\n      <th>2</th>\n      <td>M5A</td>\n      <td>Downtown Toronto</td>\n      <td>Regent Park, Harbourfront</td>\n      <td>43.654260</td>\n      <td>-79.360636</td>\n    </tr>\n    <tr>\n      <th>3</th>\n      <td>M6A</td>\n      <td>North York</td>\n      <td>Lawrence Manor, Lawrence Heights</td>\n      <td>43.718518</td>\n      <td>-79.464763</td>\n    </tr>\n    <tr>\n      <th>4</th>\n      <td>M7A</td>\n      <td>Downtown Toronto</td>\n      <td>Queen's Park, Ontario Provincial Government</td>\n      <td>43.662301</td>\n      <td>-79.389494</td>\n    </tr>\n  </tbody>\n</table>\n</div>",
                        "text/plain": "  PostalCode           Borough                                Neighbourhood  \\\n0        M3A        North York                                    Parkwoods   \n1        M4A        North York                             Victoria Village   \n2        M5A  Downtown Toronto                    Regent Park, Harbourfront   \n3        M6A        North York             Lawrence Manor, Lawrence Heights   \n4        M7A  Downtown Toronto  Queen's Park, Ontario Provincial Government   \n\n    Latitude  Longitude  \n0  43.753259 -79.329656  \n1  43.725882 -79.315572  \n2  43.654260 -79.360636  \n3  43.718518 -79.464763  \n4  43.662301 -79.389494  "
                    },
                    "execution_count": 5,
                    "metadata": {},
                    "output_type": "execute_result"
                }
            ],
            "source": "# The code was removed by Watson Studio for sharing."
        },
        {
            "cell_type": "markdown",
            "metadata": {},
            "source": "<h3>1.2 - List of Toronto Universities and its latitude and longitude coordinates</h3>"
        },
        {
            "cell_type": "code",
            "execution_count": 45,
            "metadata": {},
            "outputs": [
                {
                    "data": {
                        "text/html": "<div>\n<style scoped>\n    .dataframe tbody tr th:only-of-type {\n        vertical-align: middle;\n    }\n\n    .dataframe tbody tr th {\n        vertical-align: top;\n    }\n\n    .dataframe thead th {\n        text-align: right;\n    }\n</style>\n<table border=\"1\" class=\"dataframe\">\n  <thead>\n    <tr style=\"text-align: right;\">\n      <th></th>\n      <th>Title</th>\n    </tr>\n  </thead>\n  <tbody>\n    <tr>\n      <th>0</th>\n      <td>University of Toronto</td>\n    </tr>\n    <tr>\n      <th>1</th>\n      <td>York University</td>\n    </tr>\n    <tr>\n      <th>2</th>\n      <td>Ryerson University</td>\n    </tr>\n    <tr>\n      <th>3</th>\n      <td>Humber College</td>\n    </tr>\n    <tr>\n      <th>4</th>\n      <td>Centennial College</td>\n    </tr>\n    <tr>\n      <th>5</th>\n      <td>George Brown College</td>\n    </tr>\n    <tr>\n      <th>6</th>\n      <td>OCAD University</td>\n    </tr>\n    <tr>\n      <th>7</th>\n      <td>Michener Institute for Applied Health Sciences</td>\n    </tr>\n    <tr>\n      <th>8</th>\n      <td>Canadian Memorial Chiropractic College</td>\n    </tr>\n    <tr>\n      <th>9</th>\n      <td>Tyndale College &amp; Seminary</td>\n    </tr>\n    <tr>\n      <th>10</th>\n      <td>Regis College University of Toronto</td>\n    </tr>\n    <tr>\n      <th>11</th>\n      <td>Seneca College</td>\n    </tr>\n    <tr>\n      <th>12</th>\n      <td>Victoria University</td>\n    </tr>\n    <tr>\n      <th>13</th>\n      <td>Academy of Design Toronto</td>\n    </tr>\n    <tr>\n      <th>14</th>\n      <td>University of Trinity College</td>\n    </tr>\n    <tr>\n      <th>15</th>\n      <td>SSLC \u2014 Sprott Shaw Language College</td>\n    </tr>\n    <tr>\n      <th>16</th>\n      <td>UCCBT - Upper Career College Business &amp; Techno...</td>\n    </tr>\n    <tr>\n      <th>17</th>\n      <td>ILAC - International Language Academy of Canada</td>\n    </tr>\n    <tr>\n      <th>18</th>\n      <td>Upper Madison College</td>\n    </tr>\n    <tr>\n      <th>19</th>\n      <td>Institute for Christian Studies</td>\n    </tr>\n    <tr>\n      <th>20</th>\n      <td>University of Toronto \u2013 University of St. Mich...</td>\n    </tr>\n    <tr>\n      <th>21</th>\n      <td>University of Toronto \u2013 Wycliffe College</td>\n    </tr>\n  </tbody>\n</table>\n</div>",
                        "text/plain": "                                                Title\n0                               University of Toronto\n1                                     York University\n2                                  Ryerson University\n3                                      Humber College\n4                                  Centennial College\n5                                George Brown College\n6                                     OCAD University\n7      Michener Institute for Applied Health Sciences\n8              Canadian Memorial Chiropractic College\n9                          Tyndale College & Seminary\n10                Regis College University of Toronto\n11                                     Seneca College\n12                                Victoria University\n13                          Academy of Design Toronto\n14                      University of Trinity College\n15                SSLC \u2014 Sprott Shaw Language College\n16  UCCBT - Upper Career College Business & Techno...\n17    ILAC - International Language Academy of Canada\n18                              Upper Madison College\n19                    Institute for Christian Studies\n20  University of Toronto \u2013 University of St. Mich...\n21           University of Toronto \u2013 Wycliffe College"
                    },
                    "execution_count": 45,
                    "metadata": {},
                    "output_type": "execute_result"
                }
            ],
            "source": "url = 'http://www.unipage.net/en/universities/toronto'\n\nimport requests\n\nr = requests.get(url)\ndfUniversities = pd.read_html(r.text)[0]\ndfUniversities = dfUniversities[['Title']]\ndfUniversities"
        },
        {
            "cell_type": "code",
            "execution_count": 35,
            "metadata": {},
            "outputs": [
                {
                    "data": {
                        "text/plain": "(22, 1)"
                    },
                    "execution_count": 35,
                    "metadata": {},
                    "output_type": "execute_result"
                }
            ],
            "source": "dfUniversities.shape"
        },
        {
            "cell_type": "code",
            "execution_count": 36,
            "metadata": {},
            "outputs": [],
            "source": "# The code was removed by Watson Studio for sharing."
        },
        {
            "cell_type": "code",
            "execution_count": 37,
            "metadata": {},
            "outputs": [],
            "source": "# !pip install -c conda-forge geopy --yes \nfrom geopy.geocoders import Nominatim # module to convert an address into latitude and longitude values"
        },
        {
            "cell_type": "code",
            "execution_count": 38,
            "metadata": {},
            "outputs": [],
            "source": "geolocator = Nominatim(user_agent=\"foursquare_agent\")"
        },
        {
            "cell_type": "code",
            "execution_count": 77,
            "metadata": {},
            "outputs": [],
            "source": "def f(row):\n    location = geolocator.geocode('{}, Toronto, ON, CA'.format(row.Title))\n    if location != None:\n        return location.latitude, location.longitude\n\ndfUniversities['coords'] = dfUniversities.apply(f, axis=1)\n"
        },
        {
            "cell_type": "code",
            "execution_count": 78,
            "metadata": {},
            "outputs": [],
            "source": "dfUniversities[['lat','lon']] = pd.DataFrame(dfUniversities['coords'].tolist(), index=dfUniversities.index)\n#dfUniversities['lat'], dfUniversities['lon'] = dfUniversities['coords'].apply(lambda c: c if c != None else (np.nan,np.nan))"
        },
        {
            "cell_type": "code",
            "execution_count": 79,
            "metadata": {},
            "outputs": [
                {
                    "data": {
                        "text/html": "<div>\n<style scoped>\n    .dataframe tbody tr th:only-of-type {\n        vertical-align: middle;\n    }\n\n    .dataframe tbody tr th {\n        vertical-align: top;\n    }\n\n    .dataframe thead th {\n        text-align: right;\n    }\n</style>\n<table border=\"1\" class=\"dataframe\">\n  <thead>\n    <tr style=\"text-align: right;\">\n      <th></th>\n      <th>Title</th>\n      <th>lat</th>\n      <th>lon</th>\n    </tr>\n  </thead>\n  <tbody>\n    <tr>\n      <th>0</th>\n      <td>University of Toronto</td>\n      <td>43.663462</td>\n      <td>-79.397760</td>\n    </tr>\n    <tr>\n      <th>1</th>\n      <td>York University</td>\n      <td>43.779242</td>\n      <td>-79.483559</td>\n    </tr>\n    <tr>\n      <th>2</th>\n      <td>Ryerson University</td>\n      <td>43.658469</td>\n      <td>-79.378993</td>\n    </tr>\n    <tr>\n      <th>3</th>\n      <td>Humber College</td>\n      <td>43.728512</td>\n      <td>-79.606250</td>\n    </tr>\n    <tr>\n      <th>4</th>\n      <td>Centennial College</td>\n      <td>43.785792</td>\n      <td>-79.227810</td>\n    </tr>\n    <tr>\n      <th>5</th>\n      <td>George Brown College</td>\n      <td>43.661689</td>\n      <td>-79.391492</td>\n    </tr>\n    <tr>\n      <th>6</th>\n      <td>OCAD University</td>\n      <td>43.649334</td>\n      <td>-79.388887</td>\n    </tr>\n    <tr>\n      <th>7</th>\n      <td>Michener Institute for Applied Health Sciences</td>\n      <td>NaN</td>\n      <td>NaN</td>\n    </tr>\n    <tr>\n      <th>8</th>\n      <td>Canadian Memorial Chiropractic College</td>\n      <td>NaN</td>\n      <td>NaN</td>\n    </tr>\n    <tr>\n      <th>9</th>\n      <td>Tyndale College &amp; Seminary</td>\n      <td>NaN</td>\n      <td>NaN</td>\n    </tr>\n    <tr>\n      <th>10</th>\n      <td>Regis College University of Toronto</td>\n      <td>NaN</td>\n      <td>NaN</td>\n    </tr>\n    <tr>\n      <th>11</th>\n      <td>Seneca College</td>\n      <td>43.796730</td>\n      <td>-79.349377</td>\n    </tr>\n    <tr>\n      <th>12</th>\n      <td>Victoria University</td>\n      <td>43.667176</td>\n      <td>-79.393282</td>\n    </tr>\n    <tr>\n      <th>13</th>\n      <td>Academy of Design Toronto</td>\n      <td>NaN</td>\n      <td>NaN</td>\n    </tr>\n    <tr>\n      <th>14</th>\n      <td>University of Trinity College</td>\n      <td>NaN</td>\n      <td>NaN</td>\n    </tr>\n    <tr>\n      <th>15</th>\n      <td>SSLC \u2014 Sprott Shaw Language College</td>\n      <td>NaN</td>\n      <td>NaN</td>\n    </tr>\n    <tr>\n      <th>16</th>\n      <td>UCCBT - Upper Career College Business &amp; Techno...</td>\n      <td>NaN</td>\n      <td>NaN</td>\n    </tr>\n    <tr>\n      <th>17</th>\n      <td>ILAC - International Language Academy of Canada</td>\n      <td>NaN</td>\n      <td>NaN</td>\n    </tr>\n    <tr>\n      <th>18</th>\n      <td>Upper Madison College</td>\n      <td>NaN</td>\n      <td>NaN</td>\n    </tr>\n    <tr>\n      <th>19</th>\n      <td>Institute for Christian Studies</td>\n      <td>NaN</td>\n      <td>NaN</td>\n    </tr>\n    <tr>\n      <th>20</th>\n      <td>University of Toronto \u2013 University of St. Mich...</td>\n      <td>NaN</td>\n      <td>NaN</td>\n    </tr>\n    <tr>\n      <th>21</th>\n      <td>University of Toronto \u2013 Wycliffe College</td>\n      <td>NaN</td>\n      <td>NaN</td>\n    </tr>\n  </tbody>\n</table>\n</div>",
                        "text/plain": "                                                Title        lat        lon\n0                               University of Toronto  43.663462 -79.397760\n1                                     York University  43.779242 -79.483559\n2                                  Ryerson University  43.658469 -79.378993\n3                                      Humber College  43.728512 -79.606250\n4                                  Centennial College  43.785792 -79.227810\n5                                George Brown College  43.661689 -79.391492\n6                                     OCAD University  43.649334 -79.388887\n7      Michener Institute for Applied Health Sciences        NaN        NaN\n8              Canadian Memorial Chiropractic College        NaN        NaN\n9                          Tyndale College & Seminary        NaN        NaN\n10                Regis College University of Toronto        NaN        NaN\n11                                     Seneca College  43.796730 -79.349377\n12                                Victoria University  43.667176 -79.393282\n13                          Academy of Design Toronto        NaN        NaN\n14                      University of Trinity College        NaN        NaN\n15                SSLC \u2014 Sprott Shaw Language College        NaN        NaN\n16  UCCBT - Upper Career College Business & Techno...        NaN        NaN\n17    ILAC - International Language Academy of Canada        NaN        NaN\n18                              Upper Madison College        NaN        NaN\n19                    Institute for Christian Studies        NaN        NaN\n20  University of Toronto \u2013 University of St. Mich...        NaN        NaN\n21           University of Toronto \u2013 Wycliffe College        NaN        NaN"
                    },
                    "execution_count": 79,
                    "metadata": {},
                    "output_type": "execute_result"
                }
            ],
            "source": "dfUniversities.drop(columns='coords', inplace=True)\ndfUniversities"
        },
        {
            "cell_type": "code",
            "execution_count": null,
            "metadata": {},
            "outputs": [
                {
                    "name": "stdout",
                    "output_type": "stream",
                    "text": "Solving environment: | "
                }
            ],
            "source": "!conda install -c conda-forge folium=0.5.0 --yes\nimport folium # plotting library"
        },
        {
            "cell_type": "code",
            "execution_count": null,
            "metadata": {},
            "outputs": [],
            "source": ""
        }
    ],
    "metadata": {
        "kernelspec": {
            "display_name": "Python 3.6",
            "language": "python",
            "name": "python3"
        },
        "language_info": {
            "codemirror_mode": {
                "name": "ipython",
                "version": 3
            },
            "file_extension": ".py",
            "mimetype": "text/x-python",
            "name": "python",
            "nbconvert_exporter": "python",
            "pygments_lexer": "ipython3",
            "version": "3.6.9"
        }
    },
    "nbformat": 4,
    "nbformat_minor": 1
}